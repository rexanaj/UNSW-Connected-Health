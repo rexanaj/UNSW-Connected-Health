{
 "cells": [
  {
   "cell_type": "markdown",
   "source": [
    "# Initialise the workspace \n",
    "In order to deploy the workspace needs to initialised from the config file"
   ],
   "metadata": {}
  },
  {
   "cell_type": "code",
   "execution_count": 2,
   "source": [
    "from azureml.core.authentication import InteractiveLoginAuthentication\n",
    "forced_interactive_auth = InteractiveLoginAuthentication(tenant_id=\"ca3fdb0e-9d68-48a6-8b66-2ae9e3cb6e2f\", force=True)"
   ],
   "outputs": [
    {
     "output_type": "stream",
     "name": "stdout",
     "text": [
      "Performing interactive authentication. Please follow the instructions on the terminal.\n"
     ]
    },
    {
     "output_type": "stream",
     "name": "stderr",
     "text": [
      "Note, we have launched a browser for you to login. For old experience with device code, use \"az login --use-device-code\"\n"
     ]
    },
    {
     "output_type": "error",
     "ename": "KeyboardInterrupt",
     "evalue": "",
     "traceback": [
      "\u001b[0;31m---------------------------------------------------------------------------\u001b[0m",
      "\u001b[0;31mKeyboardInterrupt\u001b[0m                         Traceback (most recent call last)",
      "\u001b[0;32m/tmp/ipykernel_3857/2665400089.py\u001b[0m in \u001b[0;36m<module>\u001b[0;34m\u001b[0m\n\u001b[1;32m      1\u001b[0m \u001b[0;32mfrom\u001b[0m \u001b[0mazureml\u001b[0m\u001b[0;34m.\u001b[0m\u001b[0mcore\u001b[0m\u001b[0;34m.\u001b[0m\u001b[0mauthentication\u001b[0m \u001b[0;32mimport\u001b[0m \u001b[0mInteractiveLoginAuthentication\u001b[0m\u001b[0;34m\u001b[0m\u001b[0;34m\u001b[0m\u001b[0m\n\u001b[0;32m----> 2\u001b[0;31m \u001b[0mforced_interactive_auth\u001b[0m \u001b[0;34m=\u001b[0m \u001b[0mInteractiveLoginAuthentication\u001b[0m\u001b[0;34m(\u001b[0m\u001b[0mtenant_id\u001b[0m\u001b[0;34m=\u001b[0m\u001b[0;34m\"ca3fdb0e-9d68-48a6-8b66-2ae9e3cb6e2f\"\u001b[0m\u001b[0;34m,\u001b[0m \u001b[0mforce\u001b[0m\u001b[0;34m=\u001b[0m\u001b[0;32mTrue\u001b[0m\u001b[0;34m)\u001b[0m\u001b[0;34m\u001b[0m\u001b[0;34m\u001b[0m\u001b[0m\n\u001b[0m",
      "\u001b[0;32m~/anaconda3/envs/ENG2600/lib/python3.8/site-packages/azureml/core/authentication.py\u001b[0m in \u001b[0;36m__init__\u001b[0;34m(self, force, tenant_id, cloud)\u001b[0m\n\u001b[1;32m    508\u001b[0m                 print(\"Performing interactive authentication. Please follow the instructions \"\n\u001b[1;32m    509\u001b[0m                       \"on the terminal.\")\n\u001b[0;32m--> 510\u001b[0;31m                 \u001b[0mperform_interactive_login\u001b[0m\u001b[0;34m(\u001b[0m\u001b[0mtenant\u001b[0m\u001b[0;34m=\u001b[0m\u001b[0mtenant_id\u001b[0m\u001b[0;34m,\u001b[0m \u001b[0mcloud_type\u001b[0m\u001b[0;34m=\u001b[0m\u001b[0mself\u001b[0m\u001b[0;34m.\u001b[0m\u001b[0m_cloud_type\u001b[0m\u001b[0;34m)\u001b[0m\u001b[0;34m\u001b[0m\u001b[0;34m\u001b[0m\u001b[0m\n\u001b[0m\u001b[1;32m    511\u001b[0m                 \u001b[0mprint\u001b[0m\u001b[0;34m(\u001b[0m\u001b[0;34m\"Interactive authentication successfully completed.\"\u001b[0m\u001b[0;34m)\u001b[0m\u001b[0;34m\u001b[0m\u001b[0;34m\u001b[0m\u001b[0m\n\u001b[1;32m    512\u001b[0m             \u001b[0;32melse\u001b[0m\u001b[0;34m:\u001b[0m\u001b[0;34m\u001b[0m\u001b[0;34m\u001b[0m\u001b[0m\n",
      "\u001b[0;32m~/anaconda3/envs/ENG2600/lib/python3.8/site-packages/azureml/_base_sdk_common/common.py\u001b[0m in \u001b[0;36mperform_interactive_login\u001b[0;34m(username, password, service_principal, tenant, allow_no_subscriptions, identity, use_device_code, use_cert_sn_issuer, cloud_type)\u001b[0m\n\u001b[1;32m    569\u001b[0m     \u001b[0;32mfrom\u001b[0m \u001b[0madal\u001b[0m\u001b[0;34m.\u001b[0m\u001b[0madal_error\u001b[0m \u001b[0;32mimport\u001b[0m \u001b[0mAdalError\u001b[0m\u001b[0;34m\u001b[0m\u001b[0;34m\u001b[0m\u001b[0m\n\u001b[1;32m    570\u001b[0m     \u001b[0;32mtry\u001b[0m\u001b[0;34m:\u001b[0m\u001b[0;34m\u001b[0m\u001b[0;34m\u001b[0m\u001b[0m\n\u001b[0;32m--> 571\u001b[0;31m         subscriptions = profile.find_subscriptions_on_login(\n\u001b[0m\u001b[1;32m    572\u001b[0m             \u001b[0minteractive\u001b[0m\u001b[0;34m,\u001b[0m\u001b[0;34m\u001b[0m\u001b[0;34m\u001b[0m\u001b[0m\n\u001b[1;32m    573\u001b[0m             \u001b[0musername\u001b[0m\u001b[0;34m,\u001b[0m\u001b[0;34m\u001b[0m\u001b[0;34m\u001b[0m\u001b[0m\n",
      "\u001b[0;32m~/anaconda3/envs/ENG2600/lib/python3.8/site-packages/azureml/_vendor/azure_cli_core/_profile.py\u001b[0m in \u001b[0;36mfind_subscriptions_on_login\u001b[0;34m(self, interactive, username, password, is_service_principal, tenant, use_device_code, allow_no_subscriptions, subscription_finder, use_cert_sn_issuer)\u001b[0m\n\u001b[1;32m    218\u001b[0m                 \u001b[0;32mtry\u001b[0m\u001b[0;34m:\u001b[0m\u001b[0;34m\u001b[0m\u001b[0;34m\u001b[0m\u001b[0m\n\u001b[1;32m    219\u001b[0m                     \u001b[0mauthority_url\u001b[0m\u001b[0;34m,\u001b[0m \u001b[0m_\u001b[0m \u001b[0;34m=\u001b[0m \u001b[0m_get_authority_url\u001b[0m\u001b[0;34m(\u001b[0m\u001b[0mself\u001b[0m\u001b[0;34m.\u001b[0m\u001b[0mcloud_type\u001b[0m\u001b[0;34m,\u001b[0m \u001b[0mtenant\u001b[0m\u001b[0;34m)\u001b[0m\u001b[0;34m\u001b[0m\u001b[0;34m\u001b[0m\u001b[0m\n\u001b[0;32m--> 220\u001b[0;31m                     subscriptions = subscription_finder.find_through_authorization_code_flow(\n\u001b[0m\u001b[1;32m    221\u001b[0m                         tenant, self._ad_resource_uri, authority_url)\n\u001b[1;32m    222\u001b[0m                 \u001b[0;32mexcept\u001b[0m \u001b[0mRuntimeError\u001b[0m\u001b[0;34m:\u001b[0m\u001b[0;34m\u001b[0m\u001b[0;34m\u001b[0m\u001b[0m\n",
      "\u001b[0;32m~/anaconda3/envs/ENG2600/lib/python3.8/site-packages/azureml/_vendor/azure_cli_core/_profile.py\u001b[0m in \u001b[0;36mfind_through_authorization_code_flow\u001b[0;34m(self, tenant, resource, authority_url)\u001b[0m\n\u001b[1;32m    774\u001b[0m \u001b[0;34m\u001b[0m\u001b[0m\n\u001b[1;32m    775\u001b[0m         \u001b[0;31m# launch browser and get the code\u001b[0m\u001b[0;34m\u001b[0m\u001b[0;34m\u001b[0m\u001b[0;34m\u001b[0m\u001b[0m\n\u001b[0;32m--> 776\u001b[0;31m         \u001b[0mresults\u001b[0m \u001b[0;34m=\u001b[0m \u001b[0m_get_authorization_code\u001b[0m\u001b[0;34m(\u001b[0m\u001b[0mresource\u001b[0m\u001b[0;34m,\u001b[0m \u001b[0mauthority_url\u001b[0m\u001b[0;34m)\u001b[0m\u001b[0;34m\u001b[0m\u001b[0;34m\u001b[0m\u001b[0m\n\u001b[0m\u001b[1;32m    777\u001b[0m \u001b[0;34m\u001b[0m\u001b[0m\n\u001b[1;32m    778\u001b[0m         \u001b[0;32mif\u001b[0m \u001b[0;32mnot\u001b[0m \u001b[0mresults\u001b[0m\u001b[0;34m.\u001b[0m\u001b[0mget\u001b[0m\u001b[0;34m(\u001b[0m\u001b[0;34m'code'\u001b[0m\u001b[0;34m)\u001b[0m\u001b[0;34m:\u001b[0m\u001b[0;34m\u001b[0m\u001b[0;34m\u001b[0m\u001b[0m\n",
      "\u001b[0;32m~/anaconda3/envs/ENG2600/lib/python3.8/site-packages/azureml/_vendor/azure_cli_core/_profile.py\u001b[0m in \u001b[0;36m_get_authorization_code\u001b[0;34m(resource, authority_url)\u001b[0m\n\u001b[1;32m   1130\u001b[0m     \u001b[0mt\u001b[0m\u001b[0;34m.\u001b[0m\u001b[0mstart\u001b[0m\u001b[0;34m(\u001b[0m\u001b[0;34m)\u001b[0m\u001b[0;34m\u001b[0m\u001b[0;34m\u001b[0m\u001b[0m\n\u001b[1;32m   1131\u001b[0m     \u001b[0;32mwhile\u001b[0m \u001b[0;32mTrue\u001b[0m\u001b[0;34m:\u001b[0m\u001b[0;34m\u001b[0m\u001b[0;34m\u001b[0m\u001b[0m\n\u001b[0;32m-> 1132\u001b[0;31m         \u001b[0mtime\u001b[0m\u001b[0;34m.\u001b[0m\u001b[0msleep\u001b[0m\u001b[0;34m(\u001b[0m\u001b[0;36m2\u001b[0m\u001b[0;34m)\u001b[0m  \u001b[0;31m# so that ctrl+c can stop the command\u001b[0m\u001b[0;34m\u001b[0m\u001b[0;34m\u001b[0m\u001b[0m\n\u001b[0m\u001b[1;32m   1133\u001b[0m         \u001b[0;32mif\u001b[0m \u001b[0;32mnot\u001b[0m \u001b[0mt\u001b[0m\u001b[0;34m.\u001b[0m\u001b[0mis_alive\u001b[0m\u001b[0;34m(\u001b[0m\u001b[0;34m)\u001b[0m\u001b[0;34m:\u001b[0m\u001b[0;34m\u001b[0m\u001b[0;34m\u001b[0m\u001b[0m\n\u001b[1;32m   1134\u001b[0m             \u001b[0;32mbreak\u001b[0m  \u001b[0;31m# done\u001b[0m\u001b[0;34m\u001b[0m\u001b[0;34m\u001b[0m\u001b[0m\n",
      "\u001b[0;31mKeyboardInterrupt\u001b[0m: "
     ]
    }
   ],
   "metadata": {}
  },
  {
   "cell_type": "code",
   "execution_count": 3,
   "source": [
    "from azureml.core import Workspace\n",
    "ws = Workspace.from_config(path=\".azureml/config_ws.json\")\n",
    "print(ws.name, ws.resource_group, ws.location, sep ='\\n')"
   ],
   "outputs": [
    {
     "output_type": "stream",
     "name": "stdout",
     "text": [
      "af-detection\n",
      "af-detection\n",
      "australiaeast\n"
     ]
    }
   ],
   "metadata": {}
  },
  {
   "cell_type": "markdown",
   "source": [
    "# Register the Model to workspace\n",
    "Take the local file and register the model the azure workspace"
   ],
   "metadata": {}
  },
  {
   "cell_type": "code",
   "execution_count": 3,
   "source": [
    "from azureml.core.model import Model\n",
    "\n",
    "model = Model.register(workspace=ws, \n",
    "                    model_path=\"./ModelTrainedOnCambellSamples.h5\", \n",
    "                    model_name=\"af-detection-Model\")\n",
    "print(model)"
   ],
   "outputs": [
    {
     "output_type": "stream",
     "name": "stdout",
     "text": [
      "Registering model af-detection-Model\n",
      "Model(workspace=Workspace.create(name='af-detection', subscription_id='e878668b-9e6d-46af-b058-d4285cdf00b1', resource_group='af-detection'), name=af-detection-Model, id=af-detection-Model:2, version=2, tags={}, properties={})\n"
     ]
    }
   ],
   "metadata": {}
  },
  {
   "cell_type": "markdown",
   "source": [
    "# Create environment for deployment\n",
    "Creates the deployment environment with dependencies and modules"
   ],
   "metadata": {}
  },
  {
   "cell_type": "code",
   "execution_count": 4,
   "source": [
    "import tensorflow\n",
    "from azureml.core.environment import Environment\n",
    "\n",
    "environment = Environment(\"Local Deploy\")\n",
    "environment.python.conda_dependencies.add_pip_package(\"inference-schema[numpy-support]\")\n",
    "environment.python.conda_dependencies.add_pip_package(\"joblib\")\n",
    "environment.python.conda_dependencies.add_pip_package(\"tensorflow==2.4.1\")\n",
    "environment.python.conda_dependencies.add_pip_package(\"scipy\")\n",
    "\n"
   ],
   "outputs": [],
   "metadata": {}
  },
  {
   "cell_type": "code",
   "execution_count": 5,
   "source": [
    "import os\n",
    "\n",
    "source_directory = \"source_dir\"\n",
    "\n",
    "os.makedirs(source_directory, exist_ok=True)"
   ],
   "outputs": [],
   "metadata": {}
  },
  {
   "cell_type": "markdown",
   "source": [
    "# Create entry script for Webservice\n",
    "This script is used to initialise the ML service and handle its runtime behaviour when called"
   ],
   "metadata": {}
  },
  {
   "cell_type": "code",
   "execution_count": 4,
   "source": [
    "%%writefile source_dir/score.py\n",
    "import json\n",
    "import numpy as np \n",
    "from tensorflow.keras.models import load_model\n",
    "import process_ecg\n",
    "from azureml.core.model import Model\n",
    "\n",
    "def init():\n",
    "    global model\n",
    "    model_path = Model.get_model_path(\"af-detection-Model\")\n",
    "    model = load_model(model_path)\n",
    "\n",
    "def run(request):\n",
    "    try:\n",
    "        data = json.loads(request)\n",
    "        ecg_array = np.array(data)\n",
    "        processed = process_ecg.process(ecg_array)\n",
    "        result = model.predict(processed)\n",
    "        prediction = np.argmax(result)+1\n",
    "        reject = 0\n",
    "        if np.max(result[0]) < 0.97 and (np.max(result[0])-process_ecg.second_largest(result[0])) < 0.95:\n",
    "            reject = 1\n",
    "        return (int(Prediction), int(reject), model_name)\n",
    "    except Exception as e:\n",
    "        error = str(e)\n",
    "        return {'data' : error, \"message\" : 'unable to classify sample'}\n"
   ],
   "outputs": [
    {
     "output_type": "stream",
     "name": "stdout",
     "text": [
      "Overwriting source_dir/score.py\n"
     ]
    }
   ],
   "metadata": {}
  },
  {
   "cell_type": "markdown",
   "source": [
    "# Create the configuration for inference\n",
    "This is to provide the webservice of knowledge of what environment to and what entry script to run"
   ],
   "metadata": {}
  },
  {
   "cell_type": "code",
   "execution_count": 18,
   "source": [
    "from azureml.core.model import InferenceConfig\n",
    "\n",
    "inference_config = InferenceConfig(environment=environment, source_directory=source_directory, entry_script='score.py')"
   ],
   "outputs": [],
   "metadata": {}
  },
  {
   "cell_type": "markdown",
   "source": [
    "# Deploy the model as Local Webservice with Docker\n",
    "\n",
    "Using a docker container deploy the local service. "
   ],
   "metadata": {}
  },
  {
   "cell_type": "code",
   "execution_count": 19,
   "source": [
    "from azureml.core.webservice import LocalWebservice \n",
    "\n",
    "deployment_config = LocalWebservice.deploy_configuration(port=6789)\n",
    "local_service = Model.deploy(ws, 'test', [model], inference_config, deployment_config)\n",
    "\n",
    "local_service.wait_for_deployment()"
   ],
   "outputs": [
    {
     "output_type": "stream",
     "name": "stdout",
     "text": [
      "Downloading model af-detection-Model:2 to /tmp/azureml_d1f28udq/af-detection-Model/2\n",
      "Generating Docker build context.\n",
      "Package creation Succeeded\n",
      "Logging into Docker registry 0a6a6858b31d47ee9c7b2bfdb0b97579.azurecr.io\n",
      "Logging into Docker registry 0a6a6858b31d47ee9c7b2bfdb0b97579.azurecr.io\n",
      "Building Docker image from Dockerfile...\n",
      "Step 1/5 : FROM 0a6a6858b31d47ee9c7b2bfdb0b97579.azurecr.io/azureml/azureml_20ac39522139982557aec7a98440dfb6\n",
      " ---> 820b6dbed4ab\n",
      "Step 2/5 : COPY azureml-app /var/azureml-app\n",
      " ---> 4d3329296019\n",
      "Step 3/5 : RUN mkdir -p '/var/azureml-app' && echo eyJhY2NvdW50Q29udGV4dCI6eyJzdWJzY3JpcHRpb25JZCI6ImU4Nzg2NjhiLTllNmQtNDZhZi1iMDU4LWQ0Mjg1Y2RmMDBiMSIsInJlc291cmNlR3JvdXBOYW1lIjoiYWYtZGV0ZWN0aW9uIiwiYWNjb3VudE5hbWUiOiJhZi1kZXRlY3Rpb24iLCJ3b3Jrc3BhY2VJZCI6IjBhNmE2ODU4LWIzMWQtNDdlZS05YzdiLTJiZmRiMGI5NzU3OSJ9LCJtb2RlbHMiOnt9LCJtb2RlbHNJbmZvIjp7fX0= | base64 --decode > /var/azureml-app/model_config_map.json\n",
      " ---> Running in a3ff85219ace\n",
      " ---> 7f983e95c698\n",
      "Step 4/5 : RUN mv '/var/azureml-app/tmpxfiw_od2.py' /var/azureml-app/main.py\n",
      " ---> Running in 238d17bba318\n",
      " ---> 83d948bdd12f\n",
      "Step 5/5 : CMD [\"runsvdir\",\"/var/runit\"]\n",
      " ---> Running in 8aae6655fdb4\n",
      " ---> be4db14ac806\n",
      "Successfully built be4db14ac806\n",
      "Successfully tagged test:latest\n",
      "Container (name:funny_bose, id:aceda8cb974c3c6bbc729fd50110c0ff60eabeaefeaf85493c19ee081487fd53) cannot be killed.\n",
      "Container has been successfully cleaned up.\n",
      "Image sha256:b99811b0d277d1df2367dc6b157642e475212726f6fcc8f4ef2b7bf69b0e580d successfully removed.\n",
      "Starting Docker container...\n",
      "Docker container running.\n",
      "Checking container health...\n",
      "Local webservice is running at http://localhost:6789\n"
     ]
    }
   ],
   "metadata": {}
  },
  {
   "cell_type": "markdown",
   "source": [
    "# Test the Webservice using sample data\n",
    "Load Sample ecg signals and test the local deployment classification"
   ],
   "metadata": {}
  },
  {
   "cell_type": "code",
   "execution_count": 5,
   "source": [
    "import json\n",
    "import numpy as np\n",
    "\n",
    "sample_ecg = np.fromfile(\"./source_dir/ecg_sample.dat\", dtype=np.dtype('<u2'))\n",
    "print(len(sample_ecg))\n",
    "sample_input = json.dumps({'data': sample_ecg.tolist()})\n",
    "\n"
   ],
   "outputs": [
    {
     "output_type": "stream",
     "name": "stdout",
     "text": [
      "7500\n"
     ]
    }
   ],
   "metadata": {}
  },
  {
   "cell_type": "code",
   "execution_count": 6,
   "source": [
    "local_service.run(sample_input)"
   ],
   "outputs": [
    {
     "output_type": "error",
     "ename": "NameError",
     "evalue": "name 'local_service' is not defined",
     "traceback": [
      "\u001b[0;31m---------------------------------------------------------------------------\u001b[0m",
      "\u001b[0;31mNameError\u001b[0m                                 Traceback (most recent call last)",
      "\u001b[0;32m/tmp/ipykernel_3857/1161581509.py\u001b[0m in \u001b[0;36m<module>\u001b[0;34m\u001b[0m\n\u001b[0;32m----> 1\u001b[0;31m \u001b[0mlocal_service\u001b[0m\u001b[0;34m.\u001b[0m\u001b[0mrun\u001b[0m\u001b[0;34m(\u001b[0m\u001b[0msample_input\u001b[0m\u001b[0;34m)\u001b[0m\u001b[0;34m\u001b[0m\u001b[0;34m\u001b[0m\u001b[0m\n\u001b[0m",
      "\u001b[0;31mNameError\u001b[0m: name 'local_service' is not defined"
     ]
    }
   ],
   "metadata": {}
  },
  {
   "cell_type": "markdown",
   "source": [
    "# Edit score.py and reload the service if desired\n",
    "The following cells are for the editing of the score.py file and applying the changes to the service"
   ],
   "metadata": {}
  },
  {
   "cell_type": "code",
   "execution_count": 73,
   "source": [
    "%%writefile source_dir/score.py\n",
    "import json\n",
    "import numpy as np \n",
    "from tensorflow.keras.models import load_model\n",
    "import process_ecg\n",
    "from azureml.core.model import Model\n",
    "\n",
    "def init():\n",
    "    global model\n",
    "    model_path = Model.get_model_path((\"af-detection-Model\"))\n",
    "    model = load_model(model_path)\n",
    "\n",
    "def run(request):\n",
    "    try:\n",
    "        data = json.loads(request)\n",
    "        ecg_array = np.array(data['data'])\n",
    "        processed = process_ecg.process(ecg_array)\n",
    "        result = model.predict(processed)\n",
    "        prediction = np.argmax(result)+1\n",
    "        reject = 0\n",
    "        if np.max(result[0]) < 0.97 and (np.max(result[0])-process_ecg.second_largest(result[0])) < 0.95:\n",
    "           reject = 1\n",
    "        return (int(prediction), int(reject))\n",
    "    except Exception as e:\n",
    "        error = str(e)\n",
    "        return {'data' : error, \"message\" : 'unable to classify sample'}"
   ],
   "outputs": [
    {
     "output_type": "stream",
     "name": "stdout",
     "text": [
      "Overwriting source_dir/score.py\n"
     ]
    }
   ],
   "metadata": {}
  },
  {
   "cell_type": "code",
   "execution_count": 74,
   "source": [
    "local_service.reload()\n",
    "print(\"________________________________________________________\")\n"
   ],
   "outputs": [
    {
     "output_type": "stream",
     "name": "stdout",
     "text": [
      "Container has been successfully cleaned up.\n",
      "Starting Docker container...\n",
      "Docker container running.\n",
      "________________________________________________________\n"
     ]
    }
   ],
   "metadata": {}
  },
  {
   "cell_type": "markdown",
   "source": [
    "# Deploy the Model the Cloud Using AKS clusters, using same configuration as the Local deployment \n"
   ],
   "metadata": {}
  },
  {
   "cell_type": "code",
   "execution_count": null,
   "source": [
    "from azureml.core.compute import AksCompute, ComputeTarget\n",
    "from azureml.core.compute_target import ComputeTargetException\n",
    "\n",
    "aks_name = 'test-aks-1'\n",
    "\n",
    "try:\n",
    "    aks_target = ComputeTarget(workspace=ws, name=aks_name)\n",
    "    print('Found, existing cluster, use it.')\n",
    "except ComputeTargetException: \n",
    "    prov_config = AksCompute.provisioning_configuration()\n",
    "    aks_target = ComputeTarget.create(workspace=ws, name=aks_name, provisioning_configuration = prov_config)\n",
    "if aks_target.get_status() != \"Succeeded\":\n",
    "    aks_target.wait_for_completion(show_output=True)\n",
    "    "
   ],
   "outputs": [],
   "metadata": {}
  },
  {
   "cell_type": "code",
   "execution_count": null,
   "source": [
    "from azureml.core.webservice import AksWebservice\n",
    "\n",
    "ask_config = AksWebservice.deploy_configuration()\n",
    "%%time\n",
    "aks_service_name = 'aks-servive-1'\n",
    "aks_service = local_service.deploy_to_cloud(name=aks_service_name,deployment_config=ask_config, deployment_target=aks_target)\n",
    "aks_service.wait_for_deployment(show_output=True)\n",
    "print(aks_service.state)"
   ],
   "outputs": [],
   "metadata": {}
  },
  {
   "cell_type": "code",
   "execution_count": null,
   "source": [
    "import json\n",
    "import numpy as np\n",
    "\n",
    "sample_ecg = np.fromfile(\"./source_dir/ecg_sample.dat\", dtype=np.dtype('<u2'))\n",
    "print(len(sample_ecg))\n",
    "sample_input = json.dumps({'data': sample_ecg.tolist()})"
   ],
   "outputs": [],
   "metadata": {}
  },
  {
   "cell_type": "code",
   "execution_count": null,
   "source": [
    "aks_service.run(sample_input)"
   ],
   "outputs": [],
   "metadata": {}
  },
  {
   "cell_type": "markdown",
   "source": [
    "# Delete the service once finished\n",
    "Once finished testing that the service works remove it to prevent additional costs accumulating over time."
   ],
   "metadata": {}
  },
  {
   "cell_type": "code",
   "execution_count": null,
   "source": [
    "local_service.delete()\n",
    "\n"
   ],
   "outputs": [],
   "metadata": {}
  }
 ],
 "metadata": {
  "orig_nbformat": 4,
  "language_info": {
   "name": "python",
   "version": "3.8.10",
   "mimetype": "text/x-python",
   "codemirror_mode": {
    "name": "ipython",
    "version": 3
   },
   "pygments_lexer": "ipython3",
   "nbconvert_exporter": "python",
   "file_extension": ".py"
  },
  "kernelspec": {
   "name": "python3",
   "display_name": "Python 3.8.10 64-bit ('ENG2600': conda)"
  },
  "interpreter": {
   "hash": "87c01b29e0f83b64e1d2542218f716ec1c5ef651a616015b7dec9eebee72d997"
  }
 },
 "nbformat": 4,
 "nbformat_minor": 2
}